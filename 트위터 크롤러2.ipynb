{
 "cells": [
  {
   "cell_type": "code",
   "execution_count": 3,
   "metadata": {},
   "outputs": [
    {
     "ename": "IndentationError",
     "evalue": "unexpected indent (<ipython-input-3-eea892909137>, line 7)",
     "output_type": "error",
     "traceback": [
      "\u001b[0;36m  File \u001b[0;32m\"<ipython-input-3-eea892909137>\"\u001b[0;36m, line \u001b[0;32m7\u001b[0m\n\u001b[0;31m    print(tweet.timestamp)\u001b[0m\n\u001b[0m    ^\u001b[0m\n\u001b[0;31mIndentationError\u001b[0m\u001b[0;31m:\u001b[0m unexpected indent\n"
     ]
    }
   ],
   "source": [
    "#import datetime\n",
    "#from twitterscraper import query_tweets\n",
    "\n",
    "#list_of_tweets = query_tweets('코로나바이러스', begindate=datetime.date(2020,2,1), enddate=datetime.date(2020,2,2))\n",
    "\n",
    "#for tweet in tweets:\n",
    "   # print(tweet.timestamp)\n",
    "  #  print(tweet.username)\n",
    "  #  print(tweet.screen_name)\n",
    "  #  print(tweet.text)\n",
    "    "
   ]
  },
  {
   "cell_type": "code",
   "execution_count": null,
   "metadata": {},
   "outputs": [],
   "source": []
  },
  {
   "cell_type": "code",
   "execution_count": null,
   "metadata": {},
   "outputs": [],
   "source": [
    "#유저 데이터 가져오기"
   ]
  },
  {
   "cell_type": "code",
   "execution_count": 4,
   "metadata": {},
   "outputs": [
    {
     "name": "stderr",
     "output_type": "stream",
     "text": [
      "INFO: Using proxy 159.89.119.13:80\n",
      "INFO: Got user information from username BTS_twt\n"
     ]
    },
    {
     "name": "stdout",
     "output_type": "stream",
     "text": [
      "user: BTS_twt\n",
      "fullname: 방탄소년단\n",
      "location: \n",
      "blog: \n",
      "date_joined: 오후 11:32 - 2011년 7월 13일\n",
      "id: 335141638\n",
      "num_tweets: 12267\n",
      "following: 135\n",
      "follower: 25624544\n",
      "likes: 193\n",
      "lists: 0\n"
     ]
    }
   ],
   "source": [
    "from twitterscraper.query import query_user_info\n",
    "\n",
    "twitter_user = \"BTS_twt\"\n",
    "user_info = query_user_info(user= twitter_user)\n",
    "print(\"user: \"+user_info.user)\n",
    "print(\"fullname: \"+user_info.full_name)\n",
    "print(\"location: \"+user_info.location)\n",
    "print(\"blog: \"+user_info.location)\n",
    "print(\"date_joined: \"+user_info.date_joined)\n",
    "print(\"id: \"+user_info.id)\n",
    "print(\"num_tweets: \"+str(user_info.tweets))\n",
    "print(\"following: \"+str(user_info.following))\n",
    "print(\"follower: \"+str(user_info.followers))\n",
    "print(\"likes: \"+str(user_info.likes))\n",
    "print(\"lists: \"+str(user_info.lists))\n"
   ]
  },
  {
   "cell_type": "code",
   "execution_count": null,
   "metadata": {},
   "outputs": [],
   "source": [
    "#유저의 트윗 가져오기"
   ]
  },
  {
   "cell_type": "code",
   "execution_count": 6,
   "metadata": {},
   "outputs": [
    {
     "name": "stderr",
     "output_type": "stream",
     "text": [
      "INFO: Scraping tweets from https://twitter.com/BTS_twt\n",
      "INFO: Using proxy 87.247.19.126:56846\n",
      "INFO: Got 15 tweets from username BTS_twt\n"
     ]
    },
    {
     "name": "stdout",
     "output_type": "stream",
     "text": [
      "timestamp: 2020-05-10 09:28:30\n",
      "text: 누워있기 최고다!  \n",
      "아미 여러분도 오늘은 누워있어보세용 \n",
      "#BOTD #BTS_OF_THE_DAYpic.twitter.com/TN6abAYCWa\n",
      "timestamp: 2020-05-09 12:28:25\n",
      "text: 할리갈리과 석진씨와의 즐거운 라디오!\n",
      "#0613FM_0509pic.twitter.com/A7yPZpWjZs\n",
      "timestamp: 2020-05-09 07:19:03\n",
      "text: 비도 오고 꽃들이 피고 있네요,  오늘뭐하나요 다들\n",
      " #BOTD #BTS_OF_THE_DAYpic.twitter.com/XrjZrGGVY7\n",
      "timestamp: 2020-05-08 16:42:54\n",
      "text: 불편하더라도 마스크 잘 착용하고 다니세요!\n",
      "#JIMINpic.twitter.com/dl9NhDifIn\n",
      "timestamp: 2020-05-08 10:24:52\n",
      "text: 저는 요즘 소중한 사람들과 시간을 보내고 있습니다 \n",
      "여러분도 생각나는 그런 사람이 있다면  \n",
      "오늘은 먼저 연락해 보는 건 어떨까요? \n",
      "\n",
      "#BOTD #BTS_OF_THE_DAY #JIMINpic.twitter.com/7AL7UGXDsX\n",
      "timestamp: 2020-05-06 11:31:50\n",
      "text: 요오즘!! 아미들도 꽃과 하늘을 한번씩 봐보세요! \n",
      "\n",
      "#BOTD #BTS_OF_THE_DAYpic.twitter.com/fDzY26PNc2\n",
      "timestamp: 2020-05-06 09:20:43\n",
      "text: #SUGApic.twitter.com/ujmIJxBfc5\n",
      "timestamp: 2020-05-05 17:15:07\n",
      "text: 가족들과 소중한 시간들이 되길 바랄게요\n",
      "#JIMINpic.twitter.com/PVTldgJHXt\n",
      "timestamp: 2020-05-05 07:45:09\n",
      "text: 어버이날 카네이션은 역시 어린이날에 만들어야!pic.twitter.com/rbWKmL3e9H\n",
      "timestamp: 2020-05-04 06:22:36\n",
      "text: 염색 했을 때 촬칵 !! \n",
      "우리 아미 머해요옹??\n",
      "\n",
      " #BOTD #BTS_OF_THE_DAYpic.twitter.com/Cph35q3y8q\n",
      "timestamp: 2020-05-02 12:01:53\n",
      "text: 후 파이팅 넘쳤다 #0613FM_0502pic.twitter.com/7OSpQz934x\n",
      "timestamp: 2020-04-30 05:34:22\n",
      "text: 하하핫pic.twitter.com/KBhC8oigvG\n",
      "timestamp: 2020-04-28 03:50:05\n",
      "text: 날씨 진짜 조타아~pic.twitter.com/8WPDjPSbWm\n",
      "timestamp: 2020-04-25 06:48:36\n",
      "text: 우연인듯한 인연이 지금처럼 우릴 또다시 이어주길-pic.twitter.com/hZxGbJLAzG\n",
      "timestamp: 2020-04-23 12:08:06\n",
      "text: 슈가슈가슙디가 돌아옵니다. 아미 여러분 방탄소년단에게 궁금한 것이 있으신가요? 그 궁금증 제가 답변 해드리겠습니다!\n",
      "#슙디에게물어봐\n"
     ]
    }
   ],
   "source": [
    "from twitterscraper.query import query_tweets_from_user\n",
    "\n",
    "twitter_user = \"BTS_twt\"\n",
    "list_of_tweets = query_tweets_from_user(twitter_user, limit=10)\n",
    "for tweet in list_of_tweets:\n",
    "    print(\"timestamp: \"+str(tweet.timestamp)) #날짜\n",
    "    print(\"text: \"+tweet.text) #트윗내용\n"
   ]
  },
  {
   "cell_type": "code",
   "execution_count": 7,
   "metadata": {},
   "outputs": [
    {
     "name": "stderr",
     "output_type": "stream",
     "text": [
      "INFO: queries: ['코로나바이러스 since:2020-02-01 until:2020-02-02']\n",
      "INFO: Querying 코로나바이러스 since:2020-02-01 until:2020-02-02\n",
      "INFO: Scraping tweets from https://twitter.com/search?f=tweets&vertical=default&q=코로나바이러스%20since%3A2020-02-01%20until%3A2020-02-02&l=\n",
      "INFO: Using proxy 47.91.217.100:80\n",
      "INFO: Got 18 tweets for 코로나바이러스%20since%3A2020-02-01%20until%3A2020-02-02.\n",
      "INFO: Got 18 tweets (18 new).\n"
     ]
    }
   ],
   "source": [
    "from twitterscraper.query import query_tweets\n",
    "import csv\n",
    "import datetime\n",
    "\n",
    "keyword = '코로나바이러스'\n",
    "with open(keyword+'.csv', 'w', encoding='utf-8-sig', newline='') as writer_csv:\n",
    "    writer = csv.writer(writer_csv, delimiter=',')\n",
    "    \n",
    "    list_of_tweets = query_tweets(keyword, begindate=datetime.date(2020,2,1), enddate=datetime.date(2020,2,2), limit=10)\n",
    "    for tweet in list_of_tweets:\n",
    "        writer.writerow([tweet.timestamp, tweet.text])  \n",
    "\n"
   ]
  },
  {
   "cell_type": "code",
   "execution_count": 8,
   "metadata": {},
   "outputs": [
    {
     "name": "stderr",
     "output_type": "stream",
     "text": [
      "INFO: queries: ['코로나바이러스 since:2020-02-01 until:2020-02-02']\n",
      "INFO: Querying 코로나바이러스 since:2020-02-01 until:2020-02-02\n",
      "INFO: Scraping tweets from https://twitter.com/search?f=tweets&vertical=default&q=코로나바이러스%20since%3A2020-02-01%20until%3A2020-02-02&l=\n",
      "INFO: Using proxy 47.91.217.100:80\n",
      "INFO: Got 18 tweets for 코로나바이러스%20since%3A2020-02-01%20until%3A2020-02-02.\n",
      "INFO: Got 18 tweets (18 new).\n"
     ]
    }
   ],
   "source": [
    "from twitterscraper.query import query_tweets\n",
    "import csv\n",
    "import datetime\n",
    "\n",
    "keyword = '코로나바이러스'\n",
    "f = open(keyword+'2.csv','w',encoding='utf-8-sig',newline='')\n",
    "writer = csv.writer(f,delimiter=',')\n",
    "\n",
    "list_of_tweets = query_tweets(keyword, begindate=datetime.date(2020,2,1), enddate=datetime.date(2020,2,2), limit=10)\n",
    "for tweet in list_of_tweets:\n",
    "        writer.writerow([tweet.timestamp, tweet.text])\n",
    "f.close()\n"
   ]
  },
  {
   "cell_type": "code",
   "execution_count": 13,
   "metadata": {},
   "outputs": [
    {
     "name": "stderr",
     "output_type": "stream",
     "text": [
      "INFO: queries: ['코로나바이러스 since:2020-02-01 until:2020-02-02']\n",
      "INFO: Querying 코로나바이러스 since:2020-02-01 until:2020-02-02\n",
      "INFO: Scraping tweets from https://twitter.com/search?f=tweets&vertical=default&q=코로나바이러스%20since%3A2020-02-01%20until%3A2020-02-02&l=\n",
      "INFO: Using proxy 47.91.217.100:80\n",
      "INFO: Got 18 tweets for 코로나바이러스%20since%3A2020-02-01%20until%3A2020-02-02.\n",
      "INFO: Got 18 tweets (18 new).\n"
     ]
    },
    {
     "data": {
      "text/html": [
       "<div>\n",
       "<style scoped>\n",
       "    .dataframe tbody tr th:only-of-type {\n",
       "        vertical-align: middle;\n",
       "    }\n",
       "\n",
       "    .dataframe tbody tr th {\n",
       "        vertical-align: top;\n",
       "    }\n",
       "\n",
       "    .dataframe thead th {\n",
       "        text-align: right;\n",
       "    }\n",
       "</style>\n",
       "<table border=\"1\" class=\"dataframe\">\n",
       "  <thead>\n",
       "    <tr style=\"text-align: right;\">\n",
       "      <th></th>\n",
       "      <th>timestamp</th>\n",
       "      <th>text</th>\n",
       "    </tr>\n",
       "  </thead>\n",
       "  <tbody>\n",
       "    <tr>\n",
       "      <th>0</th>\n",
       "      <td>2020-02-01 23:57:44</td>\n",
       "      <td>RT @ohmynews_korea 신종 코로나를 대하는 미국 언론 vs. 한국 언론...</td>\n",
       "    </tr>\n",
       "    <tr>\n",
       "      <th>1</th>\n",
       "      <td>2020-02-01 23:57:08</td>\n",
       "      <td>WHO, 中눈치… 알맹이 없는 뒷북 ‘비상사태’ \\n\\n[신종 코로나바이러스 확산]...</td>\n",
       "    </tr>\n",
       "    <tr>\n",
       "      <th>2</th>\n",
       "      <td>2020-02-01 23:56:39</td>\n",
       "      <td>WHO규정 읽어 봐라요.의사였다면서~지역 명칭 들어간 병명사용.\\n신종 코로나바이러...</td>\n",
       "    </tr>\n",
       "    <tr>\n",
       "      <th>3</th>\n",
       "      <td>2020-02-01 23:56:06</td>\n",
       "      <td>[다경뉴스] 경북도, 교통수단에 의한 코로나바이러스 확산방지에 선제적 대응 http...</td>\n",
       "    </tr>\n",
       "    <tr>\n",
       "      <th>4</th>\n",
       "      <td>2020-02-01 23:55:29</td>\n",
       "      <td>전 코타키나발루 길거리에서 저희를 보고애들이 코로나바이러스! 이러더군요...ㅠ</td>\n",
       "    </tr>\n",
       "    <tr>\n",
       "      <th>5</th>\n",
       "      <td>2020-02-01 23:52:52</td>\n",
       "      <td>일반 독감으로 인한 사망자는 일반적인 의료체제내에서 치료가 어느정도 가능하지만 사스...</td>\n",
       "    </tr>\n",
       "    <tr>\n",
       "      <th>6</th>\n",
       "      <td>2020-02-01 23:52:40</td>\n",
       "      <td>지난해 12월 30일, 우한시 중심병원 소속 의사 리원량은 진료 중 기침, 고열, ...</td>\n",
       "    </tr>\n",
       "    <tr>\n",
       "      <th>7</th>\n",
       "      <td>2020-02-01 23:51:21</td>\n",
       "      <td>검역 인력 늘리겠다는 정부 예산안 반대했던 자유한국당, 정부의 신종 코로나바이러스 ...</td>\n",
       "    </tr>\n",
       "    <tr>\n",
       "      <th>8</th>\n",
       "      <td>2020-02-01 23:48:09</td>\n",
       "      <td>#우한폐렴 #신종_코로나바이러스\\n#마스크 결재 후 구매취소 등 마스크 구매가 어렵...</td>\n",
       "    </tr>\n",
       "    <tr>\n",
       "      <th>9</th>\n",
       "      <td>2020-02-01 23:48:01</td>\n",
       "      <td>다함께 지키는 신종 코로나바이러스감염증 예방수칙(국문/영문/중문)\\n감염병 예방수...</td>\n",
       "    </tr>\n",
       "    <tr>\n",
       "      <th>10</th>\n",
       "      <td>2020-02-01 23:47:39</td>\n",
       "      <td>정부 오피셜 Q&amp;A\\n신종 코로나바이러스감염증 \\n────────────\\nQ. 중...</td>\n",
       "    </tr>\n",
       "    <tr>\n",
       "      <th>11</th>\n",
       "      <td>2020-02-01 23:47:01</td>\n",
       "      <td>헐 울동네 코로나바이러스 확진자 나옴ㄷㄷ..</td>\n",
       "    </tr>\n",
       "    <tr>\n",
       "      <th>12</th>\n",
       "      <td>2020-02-01 23:46:49</td>\n",
       "      <td>신종 코로나바이러스 7번째 확진자 이동경로 및 상세 내용 포함 - https://u...</td>\n",
       "    </tr>\n",
       "    <tr>\n",
       "      <th>13</th>\n",
       "      <td>2020-02-01 23:46:35</td>\n",
       "      <td>이재명, 도내 '신종 코로나바이러스 감염증' 확진환자 추가 발생 (출처 : #팩트o...</td>\n",
       "    </tr>\n",
       "    <tr>\n",
       "      <th>14</th>\n",
       "      <td>2020-02-01 23:45:44</td>\n",
       "      <td>코로나바이러스로 복귀를 지연한드아</td>\n",
       "    </tr>\n",
       "    <tr>\n",
       "      <th>15</th>\n",
       "      <td>2020-02-01 23:45:13</td>\n",
       "      <td>#체온계 #우한폐렴 #코로나바이러스\\n#코로나 #우한 #코로나바이러스확진자 \\n\\n...</td>\n",
       "    </tr>\n",
       "    <tr>\n",
       "      <th>16</th>\n",
       "      <td>2020-02-01 23:45:04</td>\n",
       "      <td>신종 코로나바이러스 7번째 확진자 이동경로 및 상세 내용 포함 https://uda...</td>\n",
       "    </tr>\n",
       "    <tr>\n",
       "      <th>17</th>\n",
       "      <td>2020-02-01 23:43:15</td>\n",
       "      <td>이재명, 도내 '신종 코로나바이러스 감염증' 확진환자 추가 발생 (출처 : #팩트o...</td>\n",
       "    </tr>\n",
       "  </tbody>\n",
       "</table>\n",
       "</div>"
      ],
      "text/plain": [
       "             timestamp                                               text\n",
       "0  2020-02-01 23:57:44  RT @ohmynews_korea 신종 코로나를 대하는 미국 언론 vs. 한국 언론...\n",
       "1  2020-02-01 23:57:08  WHO, 中눈치… 알맹이 없는 뒷북 ‘비상사태’ \\n\\n[신종 코로나바이러스 확산]...\n",
       "2  2020-02-01 23:56:39  WHO규정 읽어 봐라요.의사였다면서~지역 명칭 들어간 병명사용.\\n신종 코로나바이러...\n",
       "3  2020-02-01 23:56:06  [다경뉴스] 경북도, 교통수단에 의한 코로나바이러스 확산방지에 선제적 대응 http...\n",
       "4  2020-02-01 23:55:29        전 코타키나발루 길거리에서 저희를 보고애들이 코로나바이러스! 이러더군요...ㅠ\n",
       "5  2020-02-01 23:52:52  일반 독감으로 인한 사망자는 일반적인 의료체제내에서 치료가 어느정도 가능하지만 사스...\n",
       "6  2020-02-01 23:52:40  지난해 12월 30일, 우한시 중심병원 소속 의사 리원량은 진료 중 기침, 고열, ...\n",
       "7  2020-02-01 23:51:21  검역 인력 늘리겠다는 정부 예산안 반대했던 자유한국당, 정부의 신종 코로나바이러스 ...\n",
       "8  2020-02-01 23:48:09  #우한폐렴 #신종_코로나바이러스\\n#마스크 결재 후 구매취소 등 마스크 구매가 어렵...\n",
       "9  2020-02-01 23:48:01   다함께 지키는 신종 코로나바이러스감염증 예방수칙(국문/영문/중문)\\n감염병 예방수...\n",
       "10 2020-02-01 23:47:39  정부 오피셜 Q&A\\n신종 코로나바이러스감염증 \\n────────────\\nQ. 중...\n",
       "11 2020-02-01 23:47:01                           헐 울동네 코로나바이러스 확진자 나옴ㄷㄷ..\n",
       "12 2020-02-01 23:46:49  신종 코로나바이러스 7번째 확진자 이동경로 및 상세 내용 포함 - https://u...\n",
       "13 2020-02-01 23:46:35  이재명, 도내 '신종 코로나바이러스 감염증' 확진환자 추가 발생 (출처 : #팩트o...\n",
       "14 2020-02-01 23:45:44                                 코로나바이러스로 복귀를 지연한드아\n",
       "15 2020-02-01 23:45:13  #체온계 #우한폐렴 #코로나바이러스\\n#코로나 #우한 #코로나바이러스확진자 \\n\\n...\n",
       "16 2020-02-01 23:45:04  신종 코로나바이러스 7번째 확진자 이동경로 및 상세 내용 포함 https://uda...\n",
       "17 2020-02-01 23:43:15  이재명, 도내 '신종 코로나바이러스 감염증' 확진환자 추가 발생 (출처 : #팩트o..."
      ]
     },
     "metadata": {},
     "output_type": "display_data"
    }
   ],
   "source": [
    "from twitterscraper.query import query_tweets\n",
    "from IPython.display import display\n",
    "import pandas as pd\n",
    "import datetime\n",
    "\n",
    "tweets = []\n",
    "keyword = '코로나바이러스'\n",
    "cols = ['timestamp','text']\n",
    "\n",
    "list_of_tweets = query_tweets(keyword, begindate=datetime.date(2020,2,1), enddate=datetime.date(2020,2,2), limit=10)\n",
    "for tweet in list_of_tweets:\n",
    "    tweets.append([tweet.timestamp,tweet.text])\n",
    "\n",
    "    \n",
    "\n",
    "data_frame = pd.DataFrame(tweets,columns=cols)\n",
    "display(data_frame)\n",
    "data_frame.to_csv(keyword+\"3.csv\", mode='w', encoding=\"utf-8-sig\")\n",
    "\n"
   ]
  },
  {
   "cell_type": "code",
   "execution_count": 30,
   "metadata": {},
   "outputs": [
    {
     "data": {
      "text/html": [
       "<div>\n",
       "<style scoped>\n",
       "    .dataframe tbody tr th:only-of-type {\n",
       "        vertical-align: middle;\n",
       "    }\n",
       "\n",
       "    .dataframe tbody tr th {\n",
       "        vertical-align: top;\n",
       "    }\n",
       "\n",
       "    .dataframe thead th {\n",
       "        text-align: right;\n",
       "    }\n",
       "</style>\n",
       "<table border=\"1\" class=\"dataframe\">\n",
       "  <thead>\n",
       "    <tr style=\"text-align: right;\">\n",
       "      <th></th>\n",
       "      <th>Unnamed: 0</th>\n",
       "      <th>트윗시간</th>\n",
       "      <th>트윗내용</th>\n",
       "    </tr>\n",
       "  </thead>\n",
       "  <tbody>\n",
       "    <tr>\n",
       "      <th>0</th>\n",
       "      <td>0</td>\n",
       "      <td>2020-02-01 23:57:44</td>\n",
       "      <td>RT @ohmynews_korea 신종 코로나를 대하는 미국 언론 vs. 한국 언론...</td>\n",
       "    </tr>\n",
       "    <tr>\n",
       "      <th>1</th>\n",
       "      <td>1</td>\n",
       "      <td>2020-02-01 23:57:08</td>\n",
       "      <td>WHO, 中눈치… 알맹이 없는 뒷북 ‘비상사태’ \\n\\n[신종 코로나바이러스 확산]...</td>\n",
       "    </tr>\n",
       "    <tr>\n",
       "      <th>2</th>\n",
       "      <td>2</td>\n",
       "      <td>2020-02-01 23:56:39</td>\n",
       "      <td>WHO규정 읽어 봐라요.의사였다면서~지역 명칭 들어간 병명사용.\\n신종 코로나바이러...</td>\n",
       "    </tr>\n",
       "    <tr>\n",
       "      <th>3</th>\n",
       "      <td>3</td>\n",
       "      <td>2020-02-01 23:56:06</td>\n",
       "      <td>[다경뉴스] 경북도, 교통수단에 의한 코로나바이러스 확산방지에 선제적 대응 http...</td>\n",
       "    </tr>\n",
       "    <tr>\n",
       "      <th>4</th>\n",
       "      <td>4</td>\n",
       "      <td>2020-02-01 23:55:29</td>\n",
       "      <td>전 코타키나발루 길거리에서 저희를 보고애들이 코로나바이러스! 이러더군요...ㅠ</td>\n",
       "    </tr>\n",
       "    <tr>\n",
       "      <th>5</th>\n",
       "      <td>5</td>\n",
       "      <td>2020-02-01 23:52:52</td>\n",
       "      <td>일반 독감으로 인한 사망자는 일반적인 의료체제내에서 치료가 어느정도 가능하지만 사스...</td>\n",
       "    </tr>\n",
       "    <tr>\n",
       "      <th>6</th>\n",
       "      <td>6</td>\n",
       "      <td>2020-02-01 23:52:40</td>\n",
       "      <td>지난해 12월 30일, 우한시 중심병원 소속 의사 리원량은 진료 중 기침, 고열, ...</td>\n",
       "    </tr>\n",
       "    <tr>\n",
       "      <th>7</th>\n",
       "      <td>7</td>\n",
       "      <td>2020-02-01 23:51:21</td>\n",
       "      <td>검역 인력 늘리겠다는 정부 예산안 반대했던 자유한국당, 정부의 신종 코로나바이러스 ...</td>\n",
       "    </tr>\n",
       "    <tr>\n",
       "      <th>8</th>\n",
       "      <td>8</td>\n",
       "      <td>2020-02-01 23:48:09</td>\n",
       "      <td>#우한폐렴 #신종_코로나바이러스\\n#마스크 결재 후 구매취소 등 마스크 구매가 어렵...</td>\n",
       "    </tr>\n",
       "    <tr>\n",
       "      <th>9</th>\n",
       "      <td>9</td>\n",
       "      <td>2020-02-01 23:48:01</td>\n",
       "      <td>다함께 지키는 신종 코로나바이러스감염증 예방수칙(국문/영문/중문)\\n감염병 예방수...</td>\n",
       "    </tr>\n",
       "    <tr>\n",
       "      <th>10</th>\n",
       "      <td>10</td>\n",
       "      <td>2020-02-01 23:47:39</td>\n",
       "      <td>정부 오피셜 Q&amp;A\\n신종 코로나바이러스감염증 \\n────────────\\nQ. 중...</td>\n",
       "    </tr>\n",
       "    <tr>\n",
       "      <th>11</th>\n",
       "      <td>11</td>\n",
       "      <td>2020-02-01 23:47:01</td>\n",
       "      <td>헐 울동네 코로나바이러스 확진자 나옴ㄷㄷ..</td>\n",
       "    </tr>\n",
       "    <tr>\n",
       "      <th>12</th>\n",
       "      <td>12</td>\n",
       "      <td>2020-02-01 23:46:49</td>\n",
       "      <td>신종 코로나바이러스 7번째 확진자 이동경로 및 상세 내용 포함 - https://u...</td>\n",
       "    </tr>\n",
       "    <tr>\n",
       "      <th>13</th>\n",
       "      <td>13</td>\n",
       "      <td>2020-02-01 23:46:35</td>\n",
       "      <td>이재명, 도내 '신종 코로나바이러스 감염증' 확진환자 추가 발생 (출처 : #팩트o...</td>\n",
       "    </tr>\n",
       "    <tr>\n",
       "      <th>14</th>\n",
       "      <td>14</td>\n",
       "      <td>2020-02-01 23:45:44</td>\n",
       "      <td>코로나바이러스로 복귀를 지연한드아</td>\n",
       "    </tr>\n",
       "    <tr>\n",
       "      <th>15</th>\n",
       "      <td>15</td>\n",
       "      <td>2020-02-01 23:45:13</td>\n",
       "      <td>#체온계 #우한폐렴 #코로나바이러스\\n#코로나 #우한 #코로나바이러스확진자 \\n\\n...</td>\n",
       "    </tr>\n",
       "    <tr>\n",
       "      <th>16</th>\n",
       "      <td>16</td>\n",
       "      <td>2020-02-01 23:45:04</td>\n",
       "      <td>신종 코로나바이러스 7번째 확진자 이동경로 및 상세 내용 포함 https://uda...</td>\n",
       "    </tr>\n",
       "    <tr>\n",
       "      <th>17</th>\n",
       "      <td>17</td>\n",
       "      <td>2020-02-01 23:43:15</td>\n",
       "      <td>이재명, 도내 '신종 코로나바이러스 감염증' 확진환자 추가 발생 (출처 : #팩트o...</td>\n",
       "    </tr>\n",
       "  </tbody>\n",
       "</table>\n",
       "</div>"
      ],
      "text/plain": [
       "    Unnamed: 0                 트윗시간  \\\n",
       "0            0  2020-02-01 23:57:44   \n",
       "1            1  2020-02-01 23:57:08   \n",
       "2            2  2020-02-01 23:56:39   \n",
       "3            3  2020-02-01 23:56:06   \n",
       "4            4  2020-02-01 23:55:29   \n",
       "5            5  2020-02-01 23:52:52   \n",
       "6            6  2020-02-01 23:52:40   \n",
       "7            7  2020-02-01 23:51:21   \n",
       "8            8  2020-02-01 23:48:09   \n",
       "9            9  2020-02-01 23:48:01   \n",
       "10          10  2020-02-01 23:47:39   \n",
       "11          11  2020-02-01 23:47:01   \n",
       "12          12  2020-02-01 23:46:49   \n",
       "13          13  2020-02-01 23:46:35   \n",
       "14          14  2020-02-01 23:45:44   \n",
       "15          15  2020-02-01 23:45:13   \n",
       "16          16  2020-02-01 23:45:04   \n",
       "17          17  2020-02-01 23:43:15   \n",
       "\n",
       "                                                 트윗내용  \n",
       "0   RT @ohmynews_korea 신종 코로나를 대하는 미국 언론 vs. 한국 언론...  \n",
       "1   WHO, 中눈치… 알맹이 없는 뒷북 ‘비상사태’ \\n\\n[신종 코로나바이러스 확산]...  \n",
       "2   WHO규정 읽어 봐라요.의사였다면서~지역 명칭 들어간 병명사용.\\n신종 코로나바이러...  \n",
       "3   [다경뉴스] 경북도, 교통수단에 의한 코로나바이러스 확산방지에 선제적 대응 http...  \n",
       "4         전 코타키나발루 길거리에서 저희를 보고애들이 코로나바이러스! 이러더군요...ㅠ  \n",
       "5   일반 독감으로 인한 사망자는 일반적인 의료체제내에서 치료가 어느정도 가능하지만 사스...  \n",
       "6   지난해 12월 30일, 우한시 중심병원 소속 의사 리원량은 진료 중 기침, 고열, ...  \n",
       "7   검역 인력 늘리겠다는 정부 예산안 반대했던 자유한국당, 정부의 신종 코로나바이러스 ...  \n",
       "8   #우한폐렴 #신종_코로나바이러스\\n#마스크 결재 후 구매취소 등 마스크 구매가 어렵...  \n",
       "9    다함께 지키는 신종 코로나바이러스감염증 예방수칙(국문/영문/중문)\\n감염병 예방수...  \n",
       "10  정부 오피셜 Q&A\\n신종 코로나바이러스감염증 \\n────────────\\nQ. 중...  \n",
       "11                           헐 울동네 코로나바이러스 확진자 나옴ㄷㄷ..  \n",
       "12  신종 코로나바이러스 7번째 확진자 이동경로 및 상세 내용 포함 - https://u...  \n",
       "13  이재명, 도내 '신종 코로나바이러스 감염증' 확진환자 추가 발생 (출처 : #팩트o...  \n",
       "14                                 코로나바이러스로 복귀를 지연한드아  \n",
       "15  #체온계 #우한폐렴 #코로나바이러스\\n#코로나 #우한 #코로나바이러스확진자 \\n\\n...  \n",
       "16  신종 코로나바이러스 7번째 확진자 이동경로 및 상세 내용 포함 https://uda...  \n",
       "17  이재명, 도내 '신종 코로나바이러스 감염증' 확진환자 추가 발생 (출처 : #팩트o...  "
      ]
     },
     "execution_count": 30,
     "metadata": {},
     "output_type": "execute_result"
    }
   ],
   "source": [
    "a = pd.read_csv('../github/코로나바이러스3.csv')\n",
    "a\n",
    "\n",
    "a = a.rename(columns={'timestamp':'트윗시간', 'text':'트윗내용'})\n",
    "a\n"
   ]
  },
  {
   "cell_type": "code",
   "execution_count": 37,
   "metadata": {},
   "outputs": [
    {
     "data": {
      "text/html": [
       "<div>\n",
       "<style scoped>\n",
       "    .dataframe tbody tr th:only-of-type {\n",
       "        vertical-align: middle;\n",
       "    }\n",
       "\n",
       "    .dataframe tbody tr th {\n",
       "        vertical-align: top;\n",
       "    }\n",
       "\n",
       "    .dataframe thead th {\n",
       "        text-align: right;\n",
       "    }\n",
       "</style>\n",
       "<table border=\"1\" class=\"dataframe\">\n",
       "  <thead>\n",
       "    <tr style=\"text-align: right;\">\n",
       "      <th></th>\n",
       "      <th>트윗시간</th>\n",
       "      <th>트윗내용</th>\n",
       "    </tr>\n",
       "  </thead>\n",
       "  <tbody>\n",
       "    <tr>\n",
       "      <th>0</th>\n",
       "      <td>2020-02-01 23:57:44</td>\n",
       "      <td>RT @ohmynews_korea 신종 코로나를 대하는 미국 언론 vs. 한국 언론...</td>\n",
       "    </tr>\n",
       "    <tr>\n",
       "      <th>1</th>\n",
       "      <td>2020-02-01 23:57:08</td>\n",
       "      <td>WHO, 中눈치… 알맹이 없는 뒷북 ‘비상사태’ \\n\\n[신종 코로나바이러스 확산]...</td>\n",
       "    </tr>\n",
       "    <tr>\n",
       "      <th>2</th>\n",
       "      <td>2020-02-01 23:56:39</td>\n",
       "      <td>WHO규정 읽어 봐라요.의사였다면서~지역 명칭 들어간 병명사용.\\n신종 코로나바이러...</td>\n",
       "    </tr>\n",
       "    <tr>\n",
       "      <th>3</th>\n",
       "      <td>2020-02-01 23:56:06</td>\n",
       "      <td>[다경뉴스] 경북도, 교통수단에 의한 코로나바이러스 확산방지에 선제적 대응 http...</td>\n",
       "    </tr>\n",
       "    <tr>\n",
       "      <th>4</th>\n",
       "      <td>2020-02-01 23:55:29</td>\n",
       "      <td>전 코타키나발루 길거리에서 저희를 보고애들이 코로나바이러스! 이러더군요...ㅠ</td>\n",
       "    </tr>\n",
       "    <tr>\n",
       "      <th>5</th>\n",
       "      <td>2020-02-01 23:52:52</td>\n",
       "      <td>일반 독감으로 인한 사망자는 일반적인 의료체제내에서 치료가 어느정도 가능하지만 사스...</td>\n",
       "    </tr>\n",
       "    <tr>\n",
       "      <th>6</th>\n",
       "      <td>2020-02-01 23:52:40</td>\n",
       "      <td>지난해 12월 30일, 우한시 중심병원 소속 의사 리원량은 진료 중 기침, 고열, ...</td>\n",
       "    </tr>\n",
       "    <tr>\n",
       "      <th>7</th>\n",
       "      <td>2020-02-01 23:51:21</td>\n",
       "      <td>검역 인력 늘리겠다는 정부 예산안 반대했던 자유한국당, 정부의 신종 코로나바이러스 ...</td>\n",
       "    </tr>\n",
       "    <tr>\n",
       "      <th>8</th>\n",
       "      <td>2020-02-01 23:48:09</td>\n",
       "      <td>#우한폐렴 #신종_코로나바이러스\\n#마스크 결재 후 구매취소 등 마스크 구매가 어렵...</td>\n",
       "    </tr>\n",
       "    <tr>\n",
       "      <th>9</th>\n",
       "      <td>2020-02-01 23:48:01</td>\n",
       "      <td>다함께 지키는 신종 코로나바이러스감염증 예방수칙(국문/영문/중문)\\n감염병 예방수...</td>\n",
       "    </tr>\n",
       "    <tr>\n",
       "      <th>10</th>\n",
       "      <td>2020-02-01 23:47:39</td>\n",
       "      <td>정부 오피셜 Q&amp;A\\n신종 코로나바이러스감염증 \\n────────────\\nQ. 중...</td>\n",
       "    </tr>\n",
       "    <tr>\n",
       "      <th>11</th>\n",
       "      <td>2020-02-01 23:47:01</td>\n",
       "      <td>헐 울동네 코로나바이러스 확진자 나옴ㄷㄷ..</td>\n",
       "    </tr>\n",
       "    <tr>\n",
       "      <th>12</th>\n",
       "      <td>2020-02-01 23:46:49</td>\n",
       "      <td>신종 코로나바이러스 7번째 확진자 이동경로 및 상세 내용 포함 - https://u...</td>\n",
       "    </tr>\n",
       "    <tr>\n",
       "      <th>13</th>\n",
       "      <td>2020-02-01 23:46:35</td>\n",
       "      <td>이재명, 도내 '신종 코로나바이러스 감염증' 확진환자 추가 발생 (출처 : #팩트o...</td>\n",
       "    </tr>\n",
       "    <tr>\n",
       "      <th>14</th>\n",
       "      <td>2020-02-01 23:45:44</td>\n",
       "      <td>코로나바이러스로 복귀를 지연한드아</td>\n",
       "    </tr>\n",
       "    <tr>\n",
       "      <th>15</th>\n",
       "      <td>2020-02-01 23:45:13</td>\n",
       "      <td>#체온계 #우한폐렴 #코로나바이러스\\n#코로나 #우한 #코로나바이러스확진자 \\n\\n...</td>\n",
       "    </tr>\n",
       "    <tr>\n",
       "      <th>16</th>\n",
       "      <td>2020-02-01 23:45:04</td>\n",
       "      <td>신종 코로나바이러스 7번째 확진자 이동경로 및 상세 내용 포함 https://uda...</td>\n",
       "    </tr>\n",
       "    <tr>\n",
       "      <th>17</th>\n",
       "      <td>2020-02-01 23:43:15</td>\n",
       "      <td>이재명, 도내 '신종 코로나바이러스 감염증' 확진환자 추가 발생 (출처 : #팩트o...</td>\n",
       "    </tr>\n",
       "  </tbody>\n",
       "</table>\n",
       "</div>"
      ],
      "text/plain": [
       "                   트윗시간                                               트윗내용\n",
       "0   2020-02-01 23:57:44  RT @ohmynews_korea 신종 코로나를 대하는 미국 언론 vs. 한국 언론...\n",
       "1   2020-02-01 23:57:08  WHO, 中눈치… 알맹이 없는 뒷북 ‘비상사태’ \\n\\n[신종 코로나바이러스 확산]...\n",
       "2   2020-02-01 23:56:39  WHO규정 읽어 봐라요.의사였다면서~지역 명칭 들어간 병명사용.\\n신종 코로나바이러...\n",
       "3   2020-02-01 23:56:06  [다경뉴스] 경북도, 교통수단에 의한 코로나바이러스 확산방지에 선제적 대응 http...\n",
       "4   2020-02-01 23:55:29        전 코타키나발루 길거리에서 저희를 보고애들이 코로나바이러스! 이러더군요...ㅠ\n",
       "5   2020-02-01 23:52:52  일반 독감으로 인한 사망자는 일반적인 의료체제내에서 치료가 어느정도 가능하지만 사스...\n",
       "6   2020-02-01 23:52:40  지난해 12월 30일, 우한시 중심병원 소속 의사 리원량은 진료 중 기침, 고열, ...\n",
       "7   2020-02-01 23:51:21  검역 인력 늘리겠다는 정부 예산안 반대했던 자유한국당, 정부의 신종 코로나바이러스 ...\n",
       "8   2020-02-01 23:48:09  #우한폐렴 #신종_코로나바이러스\\n#마스크 결재 후 구매취소 등 마스크 구매가 어렵...\n",
       "9   2020-02-01 23:48:01   다함께 지키는 신종 코로나바이러스감염증 예방수칙(국문/영문/중문)\\n감염병 예방수...\n",
       "10  2020-02-01 23:47:39  정부 오피셜 Q&A\\n신종 코로나바이러스감염증 \\n────────────\\nQ. 중...\n",
       "11  2020-02-01 23:47:01                           헐 울동네 코로나바이러스 확진자 나옴ㄷㄷ..\n",
       "12  2020-02-01 23:46:49  신종 코로나바이러스 7번째 확진자 이동경로 및 상세 내용 포함 - https://u...\n",
       "13  2020-02-01 23:46:35  이재명, 도내 '신종 코로나바이러스 감염증' 확진환자 추가 발생 (출처 : #팩트o...\n",
       "14  2020-02-01 23:45:44                                 코로나바이러스로 복귀를 지연한드아\n",
       "15  2020-02-01 23:45:13  #체온계 #우한폐렴 #코로나바이러스\\n#코로나 #우한 #코로나바이러스확진자 \\n\\n...\n",
       "16  2020-02-01 23:45:04  신종 코로나바이러스 7번째 확진자 이동경로 및 상세 내용 포함 https://uda...\n",
       "17  2020-02-01 23:43:15  이재명, 도내 '신종 코로나바이러스 감염증' 확진환자 추가 발생 (출처 : #팩트o..."
      ]
     },
     "execution_count": 37,
     "metadata": {},
     "output_type": "execute_result"
    }
   ],
   "source": [
    "a"
   ]
  },
  {
   "cell_type": "code",
   "execution_count": 16,
   "metadata": {},
   "outputs": [
    {
     "name": "stderr",
     "output_type": "stream",
     "text": [
      "INFO: queries: ['코로나바이러스 since:2020-02-01 until:2020-02-02']\n",
      "INFO: Querying 코로나바이러스 since:2020-02-01 until:2020-02-02\n",
      "INFO: Scraping tweets from https://twitter.com/search?f=tweets&vertical=default&q=코로나바이러스%20since%3A2020-02-01%20until%3A2020-02-02&l=\n",
      "INFO: Using proxy 47.91.217.100:80\n",
      "INFO: Got 18 tweets for 코로나바이러스%20since%3A2020-02-01%20until%3A2020-02-02.\n",
      "INFO: Got 18 tweets (18 new).\n"
     ]
    }
   ],
   "source": [
    "from twitterscraper.query import query_tweets\n",
    "import datetime\n",
    "\n",
    "keyword = '코로나바이러스'\n",
    "f=open(keyword+'.txt',mode='w',encoding='utf-8')\n",
    "\n",
    "list_of_tweets = query_tweets(keyword, begindate=datetime.date(2020,2,1), enddate=datetime.date(2020,2,2), limit=10)\n",
    "for tweet in list_of_tweets:\n",
    "    f.write(str(tweet.text)+'\\n')\n",
    "f.close()\n"
   ]
  },
  {
   "cell_type": "code",
   "execution_count": 70,
   "metadata": {},
   "outputs": [],
   "source": [
    "def clean_http(text):\n",
    "    pattern = 'https?://(\\w|[^\\w\\s])+'\n",
    "    repl = ''\n",
    "    cleaned_text = re.sub(pattern,repl,text)\n",
    "    return cleaned_text\n",
    "\n",
    "def clean_pic(text):\n",
    "    pattern = 'pic.twitter.com/\\S+'\n",
    "    repl = ''\n",
    "    cleaned_text = re.sub(pattern,repl,text)\n",
    "    return cleaned_text\n",
    "\n",
    "def clean_ATtag(text):\n",
    "    pattern = '@\\S+[ ]?'\n",
    "    repl = ''\n",
    "    cleaned_text = re.sub(pattern,repl,text)\n",
    "    return cleaned_text\n",
    "\n",
    "def clean_specialsymbol(text):\n",
    "    pattern = '[^\\w\\s]'\n",
    "    repl = ''\n",
    "    cleaned_text = re.sub(pattern,repl,text)\n",
    "    return cleaned_text\n",
    "\n",
    "def clean_consonant_vowels(text):\n",
    "    pattern = '[ㄱ-ㅎㅏ-ㅣ]+'\n",
    "    repl = ''\n",
    "    cleaned_text = re.sub(pattern,repl,text)\n",
    "    return cleaned_text\n",
    "\n",
    "\n",
    "import re\n",
    "\n",
    "keyword = '코로나바이러스'\n",
    "inFile = keyword+'.txt'\n",
    "outFile = keyword+'_clean.txt'\n",
    "    \n",
    "r = open(inFile, 'r')\n",
    "w = open(outFile, 'w')\n",
    "    \n",
    "text = r.read()\n",
    "    \n",
    "text = clean_http(text)\n",
    "text = clean_pic(text)\n",
    "text = clean_ATtag(text)\n",
    "text = clean_specialsymbol(text)\n",
    "text = clean_consonant_vowels(text)\n",
    "\n",
    "w.write(text)\n",
    "    \n",
    "r.close()\n",
    "w.close() \n"
   ]
  },
  {
   "cell_type": "code",
   "execution_count": 1,
   "metadata": {},
   "outputs": [
    {
     "name": "stdout",
     "output_type": "stream",
     "text": [
      "[[('RT', 'SL'), ('신종', 'NNP'), ('코로나', 'NNP'), ('를', 'JKO'), ('대하', 'VV'), ('는', 'ETM'), ('미국', 'NNP'), ('언론', 'NNG'), ('vs', 'SL'), ('한국', 'NNP'), ('언론', 'NNG'), ('코로나', 'NNP'), ('바이러스', 'NNG'), ('LITTLEROCKNINE', 'SL'), ('언론', 'NNG'), ('최현정', 'NNP'), ('기자', 'NNG'), ('\\xa0', 'SY')], [('WHO', 'SL'), ('中', 'NNG'), ('눈치', 'NNG'), ('알맹이', 'NNG'), ('없', 'VA'), ('는', 'ETM'), ('뒷', 'MM'), ('북', 'NNP'), ('비상사태', 'NNG')], [], [('신종', 'NNP'), ('코로나', 'NNP'), ('바이러스', 'NNG'), ('확산', 'NNG')], [('권고', 'NNG'), ('수준', 'NNG'), ('이', 'JKS'), ('동제', 'NNG'), ('한', 'XSA+ETM'), ('조치', 'NNG'), ('도', 'JX'), ('안', 'MAG'), ('해', 'VV+EC')], [('中', 'NNG'), ('10', 'SN'), ('조', 'NR'), ('원', 'NNBC'), ('투자', 'NNG'), ('약속', 'NNG'), ('영향', 'NNG'), ('준', 'VV+ETM'), ('듯', 'NNB')], [('출처', 'NNG'), ('동아일보', 'NNP'), ('네이버', 'NNP'), ('뉴스', 'NNG'), ('\\xa0', 'SY')], [('WHO', 'SL'), ('규정', 'NNG'), ('읽', 'VV'), ('어', 'EC'), ('봐라', 'VX+EF'), ('요', 'MM'), ('의사', 'NNG'), ('였', 'VCP+EP'), ('다면서', 'EC'), ('지역', 'NNG'), ('명칭', 'NNG'), ('들어간', 'VV+ETM'), ('병명', 'NNG'), ('사용', 'NNG')], [('신종', 'NNP'), ('코로나', 'NNP'), ('바이러스', 'NNG')], [('그리고', 'MAJ'), ('본인', 'NNG'), ('부터', 'JX'), ('예방', 'NNG'), ('수칙', 'NNG'), ('지키', 'VV'), ('시', 'EP'), ('지', 'EF'), ('마스크', 'IC'), ('안', 'MAG'), ('했', 'VV+EP'), ('네요', 'EC')], [('다경', 'NNP'), ('뉴스', 'NNG'), ('경북', 'NNP'), ('도', 'JX'), ('교통수단', 'NNG'), ('에', 'JKB'), ('의한', 'VV+ETM'), ('코로나', 'NNP'), ('바이러스', 'NNG'), ('확산', 'NNG'), ('방지', 'NNG'), ('에', 'JKB'), ('선제', 'NNG'), ('적', 'XSN'), ('대응', 'NNG'), ('\\xa0', 'SY')], [('전', 'MM'), ('코타키나발루', 'NNP'), ('길거리', 'NNG'), ('에서', 'JKB'), ('저희', 'NP'), ('를', 'JKO'), ('보', 'VV'), ('고', 'EC'), ('애', 'NNG'), ('들', 'XSN'), ('이', 'JKS'), ('코로나', 'NNP'), ('바이러스', 'NNG'), ('이러', 'VV'), ('더군요', 'EC')], [('일반', 'NNG'), ('독감', 'NNG'), ('으로', 'JKB'), ('인한', 'VV+ETM'), ('사망자', 'NNG'), ('는', 'JX'), ('일반', 'NNG'), ('적', 'XSN'), ('인', 'VCP+ETM'), ('의료', 'NNG'), ('체제', 'NNG'), ('내', 'NNB'), ('에서', 'JKB'), ('치료', 'NNG'), ('가', 'JKS'), ('어느', 'MM'), ('정도', 'NNG'), ('가능', 'NNG'), ('하', 'XSA'), ('지만', 'EC'), ('사스', 'NNP'), ('나', 'JC'), ('메르스', 'NNP'), ('신종', 'NNP'), ('코로나', 'NNP'), ('바이러스', 'NNG'), ('같', 'VA'), ('은', 'ETM'), ('경우', 'NNG'), ('는', 'JX'), ('이렇게', 'MAG'), ('철저', 'NNG'), ('하', 'XSA'), ('게', 'EC'), ('국내외', 'NNG'), ('적', 'XSN'), ('으로', 'JKB'), ('관리', 'NNG'), ('하', 'XSV'), ('지', 'EC'), ('않', 'VX'), ('으면', 'EC'), ('감염자', 'NNG'), ('의', 'JKG'), ('사망', 'NNG'), ('비율', 'NNG'), ('이', 'JKS'), ('훨', 'MAG'), ('신', 'NNG'), ('더', 'MAG'), ('높', 'VA'), ('기', 'ETN'), ('때문', 'NNB'), ('입니다', 'VCP+EC')], [('지난해', 'NNG'), ('12', 'SN'), ('월', 'NNBC'), ('30', 'SN'), ('일', 'NNBC'), ('우', 'JKG'), ('한', 'MM'), ('시', 'NNBC'), ('중심', 'NNG'), ('병원', 'NNG'), ('소속', 'NNG'), ('의', 'JKG'), ('사', 'NR'), ('리', 'NNBC'), ('원량', 'NNG'), ('은', 'JX'), ('진료', 'NNG'), ('중', 'NNB'), ('기침', 'NNG'), ('고열', 'NNG'), ('호흡', 'NNG'), ('곤란', 'NNG'), ('에', 'JKB'), ('시달리', 'VV'), ('는', 'ETM'), ('환자', 'NNG'), ('에게서', 'JKB'), ('사스', 'NNP'), ('바이러스', 'NNG'), ('와', 'JKB'), ('매우', 'MAG'), ('흡사', 'MAG'), ('한', 'XSA+ETM'), ('코로나', 'NNP'), ('바이러스', 'NNG'), ('양성', 'NNG'), ('반응', 'NNG'), ('을', 'JKO'), ('확인', 'NNG'), ('하', 'XSV'), ('고', 'EC'), ('채팅', 'NNG'), ('방', 'NNG'), ('을', 'JKO'), ('통해', 'VV+EC'), ('의대', 'NNG'), ('동기', 'NNG'), ('들', 'XSN'), ('과', 'JKB'), ('공유', 'NNG'), ('했', 'XSV+EP'), ('다', 'EF'), ('거기', 'NP'), ('서', 'JKB'), ('동일', 'NNG'), ('증상', 'NNG'), ('확진', 'NNG'), ('자', 'XSN'), ('가', 'JKS'), ('7', 'SN'), ('명', 'NNBC'), ('에', 'JKB'), ('이른다는', 'VV+ETM'), ('것', 'NNB'), ('을', 'JKO'), ('알', 'VV'), ('고', 'EC'), ('충격', 'NNG'), ('을', 'JKO'), ('받', 'VV'), ('게', 'EC'), ('된다', 'VV+EC')], [('검역', 'NNG'), ('인력', 'NNG'), ('늘리', 'VV'), ('겠', 'EP'), ('다는', 'ETM'), ('정부', 'NNG'), ('예산안', 'NNG'), ('반대', 'NNG'), ('했', 'XSV+EP'), ('던', 'ETM'), ('자유', 'NNG'), ('한', 'XSA+ETM'), ('국당', 'NNP'), ('정부', 'NNG'), ('의', 'JKG'), ('신종', 'NNP'), ('코로나', 'NNP'), ('바이러스', 'NNG'), ('대책', 'NNG'), ('비판', 'NNG'), ('할', 'XSV+ETM'), ('자격', 'NNG'), ('있', 'VV'), ('나', 'EC')], [('\\xa0', 'SY'), ('우한', 'NNG'), ('에서', 'JKB'), ('온', 'MM'), ('내국', 'NNG'), ('인', 'VCP+ETM'), ('50', 'SN'), ('여', 'XSN'), ('명', 'NNBC'), ('연락', 'NNG'), ('불통', 'NNG'), ('\\xa0', 'SY')], [('우한', 'NNG'), ('폐렴', 'NNG'), ('신종', 'NNG'), ('_', 'SY'), ('코로나', 'NNP'), ('바이러스', 'NNG')], [('마스크', 'IC'), ('결재', 'NNG'), ('후', 'NNG'), ('구매', 'NNG'), ('취소', 'NNG'), ('등', 'NNB'), ('마스크', 'NNG'), ('구매', 'NNG'), ('가', 'JKS'), ('어렵', 'VA'), ('고', 'EC'), ('그나마', 'MAG'), ('가격', 'NNG'), ('이', 'JKS'), ('폭', 'NNG'), ('등', 'NNB'), ('한', 'MM'), ('사례', 'NNG'), ('도', 'JX'), ('많', 'VA'), ('습니다', 'EF'), ('\\xa0', 'SY')], [('다', 'MAG'), ('함께', 'MAG'), ('지키', 'VV'), ('는', 'ETM'), ('신종', 'NNP'), ('코로나', 'NNP'), ('바이러스', 'NNG'), ('감염증', 'NNG'), ('예방', 'NNG'), ('수칙', 'NNG'), ('국문', 'NNG'), ('영문', 'NNG'), ('중문', 'NNG')], [('감염병', 'NNP'), ('예방', 'NNG'), ('수칙', 'NNG'), ('과', 'JC'), ('중국', 'NNP'), ('여행', 'NNG'), ('시', 'NNB'), ('주', 'NNG'), ('의', 'JKG'), ('사항', 'NNG'), ('을', 'JKO'), ('확인', 'NNG'), ('해', 'XSV+EC'), ('주', 'VX'), ('세요', 'EP+EF')], [], [('질', 'NNG'), ('본', 'VV+ETM'), ('질병관리본부', 'NNP'), ('신종', 'NNP'), ('코로나', 'NNP'), ('바이러스', 'NNG'), ('감염증', 'NNG'), ('1339', 'SN'), ('콜', 'NNG'), ('센터', 'NNG')], [('더', 'MAG'), ('많', 'VA'), ('은', 'ETM'), ('_', 'SY'), ('국민', 'NNG'), ('들', 'XSN'), ('에', 'JKB'), ('_', 'SY'), ('전달', 'NNG'), ('될', 'XSV+ETM'), ('수', 'NNB'), ('있', 'VV'), ('도록', 'EC'), ('_', 'SY'), ('공유', 'NNP'), ('바랍니다', 'VV+EC')], [('정부', 'NNG'), ('오피셜', 'NNP'), ('QA', 'SL')], [('신종', 'NNP'), ('코로나', 'NNP'), ('바이러스', 'NNG'), ('감염증', 'NNG')], [], [('Q', 'SL'), ('중국', 'NNP'), ('산', 'XSN'), ('김치', 'NNG'), ('먹', 'VV'), ('으면', 'EC'), ('걸릴', 'VV+ETM'), ('수', 'NNB'), ('있', 'VV'), ('다', 'EC')], [('Q', 'SL'), ('확진', 'NNG'), ('환자', 'NNG'), ('가', 'JKS'), ('다녀간', 'VV+ETM'), ('장소', 'NNG'), ('위험', 'NNG'), ('하', 'XSA'), ('다', 'EC')], [('Q', 'SL'), ('중국', 'NNP'), ('우', 'JKG'), ('한', 'MM'), ('시', 'NNBC'), ('다녀온', 'VV+ETM'), ('사람', 'NNG'), ('아니', 'VCN'), ('면', 'EC'), ('검사', 'NNG'), ('안', 'MAG'), ('해준다', 'VV+EC+VX+EC')], [], [('질병관리본부', 'NNP'), ('가', 'JKS'), ('명확히', 'MAG'), ('설명', 'NNG')], [('QA', 'SL'), ('자세히', 'MAG'), ('보', 'VV'), ('기', 'ETN'), ('\\xa0', 'SY')], [('헐', 'VV+JKO'), ('울', 'VV+ETM'), ('동네', 'NNG'), ('코로나', 'NNP'), ('바이러스', 'NNG'), ('확진', 'NNG'), ('자', 'XSN'), ('나옴', 'VV+EC')], [('신종', 'NNP'), ('코로나', 'NNP'), ('바이러스', 'NNG'), ('7', 'SN'), ('번', 'NNBC'), ('째', 'XSN'), ('확진', 'NNG'), ('자', 'XSN'), ('이동경', 'NNP'), ('로', 'JKB'), ('및', 'MAJ'), ('상세', 'NNG'), ('내용', 'NNG'), ('포함', 'NNG'), ('\\xa0', 'SY')], [('코로나', 'NNP'), ('바이러스', 'NNG')], [('코로나', 'NNP'), ('바이러스', 'NNG'), ('확진', 'NNG'), ('자', 'XSN')], [('코로', 'NNP'), ('바이러스', 'NNG'), ('7', 'SN'), ('번', 'NNBC'), ('째', 'XSN'), ('확진', 'NNG'), ('자', 'XSN')], [('이재명', 'NNP'), ('도', 'JX'), ('내', 'MM'), ('신종', 'NNP'), ('코로나', 'NNP'), ('바이러스', 'NNG'), ('감염증', 'NNG'), ('확진', 'NNG'), ('환자', 'NNG'), ('추가', 'NNG'), ('발생', 'NNG'), ('출처', 'NNG'), ('팩', 'MAG'), ('트', 'NNG'), ('of', 'SL'), ('이', 'JKS'), ('블로그', 'NNG'), ('\\xa0', 'SY')], [('코로나', 'NNP'), ('바이러스', 'NNG'), ('로', 'JKB'), ('복귀', 'NNG'), ('를', 'JKO'), ('지연', 'NNG'), ('한', 'XSA+ETM'), ('드', 'VV'), ('아', 'EC')], [('체온계', 'NNG'), ('우한', 'NNG'), ('폐렴', 'NNG'), ('코로나', 'NNP'), ('바이러스', 'NNG')], [('코로나', 'NNP'), ('우한', 'NNP'), ('코로나', 'NNP'), ('바이러스', 'NNG'), ('확진', 'NNG'), ('자', 'XSN')], [], [('체온계', 'NNG'), ('도', 'JX'), ('필요', 'NNG'), ('하', 'XSA'), ('지', 'EC'), ('않', 'VX'), ('을까요', 'EC')], [], [('\\xa0', 'SY')], [], [('파트', 'NNG'), ('너스', 'NNG'), ('활동', 'NNG'), ('을', 'JKO'), ('통해', 'VV+EC'), ('일정액', 'NNG'), ('의', 'JKG'), ('수수료', 'NNG'), ('를', 'JKO'), ('제공', 'NNG'), ('받', 'VV'), ('을', 'ETM'), ('수', 'NNB'), ('있', 'VV'), ('음', 'ETN')], [('신종', 'NNP'), ('코로나', 'NNP'), ('바이러스', 'NNG'), ('7', 'SN'), ('번', 'NNBC'), ('째', 'XSN'), ('확진', 'NNG'), ('자', 'XSN'), ('이동경', 'NNP'), ('로', 'JKB'), ('및', 'MAJ'), ('상세', 'NNG'), ('내용', 'NNG'), ('포함', 'NNG'), ('\\xa0', 'SY')], [('이재명', 'NNP'), ('도', 'JX'), ('내', 'MM'), ('신종', 'NNP'), ('코로나', 'NNP'), ('바이러스', 'NNG'), ('감염증', 'NNG'), ('확진', 'NNG'), ('환자', 'NNG'), ('추가', 'NNG'), ('발생', 'NNG'), ('출처', 'NNG'), ('팩', 'MAG'), ('트', 'NNG'), ('of', 'SL'), ('이', 'JKS'), ('블로그', 'NNG'), ('\\xa0', 'SY')]]\n"
     ]
    }
   ],
   "source": [
    "from konlpy.tag import Mecab\n",
    "\n",
    "keyword = '코로나바이러스'\n",
    "f = open(keyword+\"_clean.txt\", 'r')\n",
    "lines = f.readlines()\n",
    "\n",
    "mecab = Mecab()\n",
    "morphs = []\n",
    "for sentence in lines:\n",
    "    morphs.append(mecab.pos(sentence))\n",
    "print(morphs)\n",
    "\n",
    "f.close()\n"
   ]
  },
  {
   "cell_type": "code",
   "execution_count": 4,
   "metadata": {},
   "outputs": [
    {
     "name": "stdout",
     "output_type": "stream",
     "text": [
      "['언론', '언론', '바이러스', '언론', '기자', '中', '눈치', '알맹이', '비상사태', '바이러스', '확산', '권고', '수준', '동제', '조치', '中', '투자', '약속', '영향', '출처', '뉴스', '규정', '의사', '지역', '명칭', '병명', '사용', '바이러스', '본인', '예방', '수칙', '뉴스', '교통수단', '바이러스', '확산', '방지', '선제', '대응', '길거리', '애', '바이러스', '일반', '독감', '사망자', '일반', '의료', '체제', '치료', '정도', '가능', '바이러스', '경우', '철저', '국내외', '관리', '감염자', '사망', '비율', '신', '지난해', '중심', '병원', '소속', '원량', '진료', '기침', '고열', '호흡', '곤란', '환자', '바이러스', '바이러스', '양성', '반응', '확인', '채팅', '방', '의대', '동기', '공유', '동일', '증상', '확진', '충격', '검역', '인력', '정부', '예산안', '반대', '자유', '정부', '바이러스', '대책', '비판', '자격', '우한', '내국', '연락', '불통', '우한', '폐렴', '신종', '바이러스', '결재', '후', '구매', '취소', '마스크', '구매', '가격', '폭', '사례', '바이러스', '감염증', '예방', '수칙', '국문', '영문', '중문', '예방', '수칙', '여행', '주', '사항', '확인', '질', '바이러스', '감염증', '콜', '센터', '국민', '전달', '정부', '바이러스', '감염증', '김치', '확진', '환자', '장소', '위험', '사람', '검사', '설명', '동네', '바이러스', '확진', '바이러스', '확진', '상세', '내용', '포함', '바이러스', '바이러스', '확진', '바이러스', '확진', '바이러스', '감염증', '확진', '환자', '추가', '발생', '출처', '트', '블로그', '바이러스', '복귀', '지연', '체온계', '우한', '폐렴', '바이러스', '바이러스', '확진', '체온계', '필요', '파트', '너스', '활동', '일정액', '수수료', '제공', '바이러스', '확진', '상세', '내용', '포함', '바이러스', '감염증', '확진', '환자', '추가', '발생', '출처', '트', '블로그']\n"
     ]
    }
   ],
   "source": [
    "words = []\n",
    "for sentence in lines:\n",
    "    morphs = mecab.pos(sentence)\n",
    "    for word, tag in morphs:\n",
    "        if tag in ['NNG']:\n",
    "            words.append(word)\n",
    "print(words)"
   ]
  },
  {
   "cell_type": "code",
   "execution_count": 3,
   "metadata": {},
   "outputs": [
    {
     "name": "stdout",
     "output_type": "stream",
     "text": [
      "{'바이러스': 24, '확진': 10, '감염증': 5, '환자': 4, '언론': 3, '출처': 3, '예방': 3, '수칙': 3, '정부': 3, '우한': 3, '中': 2, '확산': 2, '뉴스': 2, '일반': 2, '확인': 2, '폐렴': 2, '구매': 2, '상세': 2, '내용': 2, '포함': 2, '추가': 2, '발생': 2, '트': 2, '블로그': 2, '체온계': 2, '기자': 1, '눈치': 1, '알맹이': 1, '비상사태': 1, '권고': 1, '수준': 1, '동제': 1, '조치': 1, '투자': 1, '약속': 1, '영향': 1, '규정': 1, '의사': 1, '지역': 1, '명칭': 1, '병명': 1, '사용': 1, '본인': 1, '교통수단': 1, '방지': 1, '선제': 1, '대응': 1, '길거리': 1, '애': 1, '독감': 1, '사망자': 1, '의료': 1, '체제': 1, '치료': 1, '정도': 1, '가능': 1, '경우': 1, '철저': 1, '국내외': 1, '관리': 1, '감염자': 1, '사망': 1, '비율': 1, '신': 1, '지난해': 1, '중심': 1, '병원': 1, '소속': 1, '원량': 1, '진료': 1, '기침': 1, '고열': 1, '호흡': 1, '곤란': 1, '양성': 1, '반응': 1, '채팅': 1, '방': 1, '의대': 1, '동기': 1, '공유': 1, '동일': 1, '증상': 1, '충격': 1, '검역': 1, '인력': 1, '예산안': 1, '반대': 1, '자유': 1, '대책': 1, '비판': 1, '자격': 1, '내국': 1, '연락': 1, '불통': 1, '신종': 1, '결재': 1, '후': 1, '취소': 1, '마스크': 1, '가격': 1, '폭': 1, '사례': 1, '국문': 1, '영문': 1, '중문': 1, '여행': 1, '주': 1, '사항': 1, '질': 1, '콜': 1, '센터': 1, '국민': 1, '전달': 1, '김치': 1, '장소': 1, '위험': 1, '사람': 1, '검사': 1, '설명': 1, '동네': 1, '복귀': 1, '지연': 1, '필요': 1, '파트': 1, '너스': 1, '활동': 1, '일정액': 1, '수수료': 1, '제공': 1}\n"
     ]
    }
   ],
   "source": [
    "from collections import Counter\n",
    "\n",
    "count = Counter(words)\n",
    "lists = dict(count.most_common())\n",
    "print(lists)\n"
   ]
  },
  {
   "cell_type": "code",
   "execution_count": 8,
   "metadata": {},
   "outputs": [
    {
     "data": {
      "image/png": "[encoded data removed]",
      "text/plain": [
       "<Figure size 432x288 with 1 Axes>"
      ]
     },
     "metadata": {
      "needs_background": "light"
     },
     "output_type": "display_data"
    }
   ],
   "source": [
    "from wordcloud import WordCloud \n",
    "import matplotlib.pyplot as plt\n",
    "\n",
    "wordcloud = WordCloud(font_path = 'NanumGothicExtraBold.otf',background_color='white', width=1500, height=1000).generate_from_frequencies(lists) \n",
    "plt.imshow(wordcloud) #보여주고\n",
    "plt.axis('off') #가로세로 축 off\n",
    "plt.savefig(keyword+'_wordcloud.png') #결과를 저장하라. 그 폴더에.\n"
   ]
  },
  {
   "cell_type": "code",
   "execution_count": null,
   "metadata": {},
   "outputs": [],
   "source": []
  },
  {
   "cell_type": "code",
   "execution_count": null,
   "metadata": {},
   "outputs": [],
   "source": []
  },
  {
   "cell_type": "code",
   "execution_count": null,
   "metadata": {},
   "outputs": [],
   "source": []
  },
  {
   "cell_type": "code",
   "execution_count": null,
   "metadata": {},
   "outputs": [],
   "source": []
  },
  {
   "cell_type": "code",
   "execution_count": null,
   "metadata": {},
   "outputs": [],
   "source": []
  },
  {
   "cell_type": "code",
   "execution_count": null,
   "metadata": {},
   "outputs": [],
   "source": []
  },
  {
   "cell_type": "code",
   "execution_count": null,
   "metadata": {},
   "outputs": [],
   "source": []
  },
  {
   "cell_type": "code",
   "execution_count": null,
   "metadata": {},
   "outputs": [],
   "source": []
  },
  {
   "cell_type": "code",
   "execution_count": null,
   "metadata": {},
   "outputs": [],
   "source": []
  },
  {
   "cell_type": "code",
   "execution_count": null,
   "metadata": {},
   "outputs": [],
   "source": []
  },
  {
   "cell_type": "code",
   "execution_count": null,
   "metadata": {},
   "outputs": [],
   "source": []
  },
  {
   "cell_type": "code",
   "execution_count": null,
   "metadata": {},
   "outputs": [],
   "source": []
  },
  {
   "cell_type": "code",
   "execution_count": null,
   "metadata": {},
   "outputs": [],
   "source": []
  },
  {
   "cell_type": "code",
   "execution_count": null,
   "metadata": {},
   "outputs": [],
   "source": []
  },
  {
   "cell_type": "code",
   "execution_count": null,
   "metadata": {},
   "outputs": [],
   "source": []
  },
  {
   "cell_type": "code",
   "execution_count": null,
   "metadata": {},
   "outputs": [],
   "source": []
  },
  {
   "cell_type": "code",
   "execution_count": null,
   "metadata": {},
   "outputs": [],
   "source": []
  },
  {
   "cell_type": "code",
   "execution_count": null,
   "metadata": {},
   "outputs": [],
   "source": []
  },
  {
   "cell_type": "code",
   "execution_count": null,
   "metadata": {},
   "outputs": [],
   "source": []
  },
  {
   "cell_type": "code",
   "execution_count": null,
   "metadata": {},
   "outputs": [],
   "source": []
  },
  {
   "cell_type": "code",
   "execution_count": null,
   "metadata": {},
   "outputs": [],
   "source": []
  },
  {
   "cell_type": "code",
   "execution_count": null,
   "metadata": {},
   "outputs": [],
   "source": []
  },
  {
   "cell_type": "code",
   "execution_count": null,
   "metadata": {},
   "outputs": [],
   "source": []
  },
  {
   "cell_type": "code",
   "execution_count": null,
   "metadata": {},
   "outputs": [],
   "source": []
  },
  {
   "cell_type": "code",
   "execution_count": null,
   "metadata": {},
   "outputs": [],
   "source": []
  },
  {
   "cell_type": "code",
   "execution_count": null,
   "metadata": {},
   "outputs": [],
   "source": []
  },
  {
   "cell_type": "code",
   "execution_count": null,
   "metadata": {},
   "outputs": [],
   "source": []
  },
  {
   "cell_type": "code",
   "execution_count": null,
   "metadata": {},
   "outputs": [],
   "source": []
  },
  {
   "cell_type": "code",
   "execution_count": null,
   "metadata": {},
   "outputs": [],
   "source": []
  },
  {
   "cell_type": "code",
   "execution_count": null,
   "metadata": {},
   "outputs": [],
   "source": []
  },
  {
   "cell_type": "code",
   "execution_count": null,
   "metadata": {},
   "outputs": [],
   "source": []
  },
  {
   "cell_type": "code",
   "execution_count": null,
   "metadata": {},
   "outputs": [],
   "source": []
  },
  {
   "cell_type": "code",
   "execution_count": null,
   "metadata": {},
   "outputs": [],
   "source": []
  },
  {
   "cell_type": "code",
   "execution_count": null,
   "metadata": {},
   "outputs": [],
   "source": []
  },
  {
   "cell_type": "code",
   "execution_count": null,
   "metadata": {},
   "outputs": [],
   "source": []
  },
  {
   "cell_type": "code",
   "execution_count": null,
   "metadata": {},
   "outputs": [],
   "source": []
  },
  {
   "cell_type": "code",
   "execution_count": null,
   "metadata": {},
   "outputs": [],
   "source": []
  },
  {
   "cell_type": "code",
   "execution_count": 27,
   "metadata": {},
   "outputs": [],
   "source": []
  },
  {
   "cell_type": "code",
   "execution_count": null,
   "metadata": {},
   "outputs": [],
   "source": []
  },
  {
   "cell_type": "code",
   "execution_count": null,
   "metadata": {},
   "outputs": [],
   "source": []
  },
  {
   "cell_type": "code",
   "execution_count": null,
   "metadata": {},
   "outputs": [],
   "source": []
  },
  {
   "cell_type": "code",
   "execution_count": null,
   "metadata": {},
   "outputs": [],
   "source": []
  },
  {
   "cell_type": "code",
   "execution_count": null,
   "metadata": {},
   "outputs": [],
   "source": []
  },
  {
   "cell_type": "code",
   "execution_count": null,
   "metadata": {},
   "outputs": [],
   "source": []
  },
  {
   "cell_type": "code",
   "execution_count": null,
   "metadata": {},
   "outputs": [],
   "source": []
  },
  {
   "cell_type": "code",
   "execution_count": null,
   "metadata": {},
   "outputs": [],
   "source": []
  },
  {
   "cell_type": "code",
   "execution_count": null,
   "metadata": {},
   "outputs": [],
   "source": []
  },
  {
   "cell_type": "code",
   "execution_count": null,
   "metadata": {},
   "outputs": [],
   "source": []
  },
  {
   "cell_type": "code",
   "execution_count": 15,
   "metadata": {},
   "outputs": [
    {
     "data": {
      "text/plain": [
       "str"
      ]
     },
     "execution_count": 15,
     "metadata": {},
     "output_type": "execute_result"
    }
   ],
   "source": []
  },
  {
   "cell_type": "code",
   "execution_count": null,
   "metadata": {},
   "outputs": [],
   "source": []
  },
  {
   "cell_type": "code",
   "execution_count": null,
   "metadata": {},
   "outputs": [],
   "source": []
  },
  {
   "cell_type": "code",
   "execution_count": null,
   "metadata": {},
   "outputs": [],
   "source": []
  },
  {
   "cell_type": "code",
   "execution_count": null,
   "metadata": {},
   "outputs": [],
   "source": []
  },
  {
   "cell_type": "code",
   "execution_count": null,
   "metadata": {},
   "outputs": [],
   "source": []
  },
  {
   "cell_type": "code",
   "execution_count": null,
   "metadata": {},
   "outputs": [],
   "source": []
  },
  {
   "cell_type": "code",
   "execution_count": null,
   "metadata": {},
   "outputs": [],
   "source": []
  }
 ],
 "metadata": {
  "kernelspec": {
   "display_name": "Python 3",
   "language": "python",
   "name": "python3"
  },
  "language_info": {
   "codemirror_mode": {
    "name": "ipython",
    "version": 3
   },
   "file_extension": ".py",
   "mimetype": "text/x-python",
   "name": "python",
   "nbconvert_exporter": "python",
   "pygments_lexer": "ipython3",
   "version": "3.7.2"
  }
 },
 "nbformat": 4,
 "nbformat_minor": 4
}
